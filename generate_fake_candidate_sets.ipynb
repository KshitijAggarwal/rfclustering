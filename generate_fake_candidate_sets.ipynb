{
 "cells": [
  {
   "cell_type": "code",
   "execution_count": 1,
   "metadata": {},
   "outputs": [],
   "source": [
    "from clustering_utils import prep_to_cluster, find_friends, get_mocks, unison_shuffled_copies, get_data\n",
    "from cluster_plot import vis_tsne, vis_cands, plot_data, vis_clustering\n",
    "from datagen_utils import *"
   ]
  },
  {
   "cell_type": "code",
   "execution_count": 2,
   "metadata": {},
   "outputs": [],
   "source": [
    "from rfpipe import candidates"
   ]
  },
  {
   "cell_type": "code",
   "execution_count": 3,
   "metadata": {},
   "outputs": [],
   "source": [
    "import glob, os\n",
    "import numpy as np\n",
    "%matplotlib inline\n",
    "import tqdm"
   ]
  },
  {
   "cell_type": "code",
   "execution_count": 4,
   "metadata": {},
   "outputs": [],
   "source": [
    "# with open('no_rfi_only_transient.txt', 'r') as f:\n",
    "#     a = f.readlines()\n",
    "    \n",
    "# with open('only_rfi_unique.txt', 'r') as f:\n",
    "#     b = f.readlines()\n",
    "\n",
    "\n",
    "# with open('../scripts/final/pure_real_pkls.txt', 'r') as f:\n",
    "#     a = f.readlines()\n",
    "    \n",
    "with open('../scripts/final/pure_rfi_pkls.txt', 'r') as f:\n",
    "    b = f.readlines()  \n",
    "\n",
    "with open('../scripts/final/pure_real_pkls_new.txt', 'r') as f:\n",
    "    a = f.readlines()"
   ]
  },
  {
   "cell_type": "code",
   "execution_count": 5,
   "metadata": {},
   "outputs": [],
   "source": [
    "clean_pkls = [l[:-1] for l in a]\n",
    "rfi_pkls = [l[:-1] for l in b]"
   ]
  },
  {
   "cell_type": "code",
   "execution_count": 6,
   "metadata": {},
   "outputs": [
    {
     "data": {
      "text/plain": [
       "114"
      ]
     },
     "execution_count": 6,
     "metadata": {},
     "output_type": "execute_result"
    }
   ],
   "source": [
    "len(clean_pkls)"
   ]
  },
  {
   "cell_type": "code",
   "execution_count": 7,
   "metadata": {
    "scrolled": true
   },
   "outputs": [],
   "source": [
    "# making clean dataset\n",
    "# a = []\n",
    "# for c in clean_pkls:\n",
    "#     a.append(save_one(c, rfi_pkl=None, outdir='clean_dataset/'))"
   ]
  },
  {
   "cell_type": "code",
   "execution_count": 8,
   "metadata": {
    "scrolled": true
   },
   "outputs": [],
   "source": [
    "# make mixed dataset \n",
    "# a = []\n",
    "# for i in tqdm.tqdm(range(100)):\n",
    "#     rand_clean_pkl = np.random.choice(clean_pkls)\n",
    "#     rand_rfi_pkl = np.random.choice(rfi_pkls)\n",
    "#     a.append(save_one(rand_clean_pkl, rand_rfi_pkl, outdir='dataset/'))"
   ]
  },
  {
   "cell_type": "code",
   "execution_count": 9,
   "metadata": {},
   "outputs": [],
   "source": [
    "# bad_rfi_pkl = '/hyrule/data/users/kshitij/hdbscan/final_data/rfi/realfast_19B-223.sb37535659.eb37564144.58814.83778475694_1574889562789/cands_realfast_19B-223.sb37535659.eb37564144.58814.83778475694_1574889562789.1.1.pkl'\n",
    "# bad_rfi_pkl = glob.glob('/hyrule/data/users/kshitij/hdbscan/final_data/rfi/realfast_20A-330.sb37772396.eb38064058.58966.14456782407_1587959392390/*pkl')[0]"
   ]
  },
  {
   "cell_type": "code",
   "execution_count": 10,
   "metadata": {},
   "outputs": [],
   "source": [
    "# strong_real_pkl = glob.glob('/hyrule/data/users/kshitij/hdbscan/final_data/clean/test_59109.711787758875_config_C_band_S/*pkl')[0]\n",
    "# strong_real_pkl = glob.glob('/hyrule/data/users/kshitij/hdbscan/final_data/clean/test_59109.71606138994_config_C_band_S/*pkl')[0]"
   ]
  },
  {
   "cell_type": "code",
   "execution_count": 11,
   "metadata": {},
   "outputs": [],
   "source": [
    "# d,l,s = get_data(strong_real_pkl, frac=1, label=0)"
   ]
  },
  {
   "cell_type": "code",
   "execution_count": 12,
   "metadata": {},
   "outputs": [],
   "source": [
    "# plot_data(d, labels=l, snrs=s, tsne_res=None, title=None, save=False)"
   ]
  },
  {
   "cell_type": "code",
   "execution_count": 21,
   "metadata": {
    "scrolled": true
   },
   "outputs": [
    {
     "name": "stderr",
     "output_type": "stream",
     "text": [
      "  0%|          | 0/2 [00:00<?, ?it/s]2020-10-16 18:12:49,379 - root - INFO - Processing /hyrule/data/users/kshitij/hdbscan/final_data/clean/test_59137.987111534516_config_B_band_C\n",
      "2020-10-16 18:12:49,382 - root - INFO - Pre-processing data of 327 candidates for clustering.\n",
      "2020-10-16 18:12:49,813 - root - INFO - Processing /hyrule/data/users/kshitij/hdbscan/final_data/rfi/realfast_20A-330.sb37772396.eb38064058.58966.14456782407_1587959433550\n",
      "2020-10-16 18:12:49,815 - root - INFO - Pre-processing data of 688 candidates for clustering.\n",
      " 50%|█████     | 1/2 [00:00<00:00,  1.20it/s]2020-10-16 18:12:50,209 - root - INFO - Processing /hyrule/data/users/kshitij/hdbscan/final_data/clean/test_59109.71185727337_config_A_band_X\n",
      "2020-10-16 18:12:50,211 - root - INFO - Pre-processing data of 56 candidates for clustering.\n",
      "2020-10-16 18:12:50,555 - root - INFO - Processing /hyrule/data/users/kshitij/hdbscan/final_data/rfi/realfast_20A-330.sb37772396.eb38064058.58966.14456782407_1587959427670\n",
      "2020-10-16 18:12:50,557 - root - INFO - Pre-processing data of 365 candidates for clustering.\n",
      "100%|██████████| 2/2 [00:01<00:00,  1.28it/s]\n"
     ]
    }
   ],
   "source": [
    "# make mixed dataset using all clean and all rfi examples but rfi frac is wrt total\n",
    "# a = []\n",
    "for i in tqdm.tqdm(range(2)):\n",
    "    rand_clean_pkl = np.random.choice(clean_pkls)\n",
    "    rand_rfi_pkl = np.random.choice(rfi_pkls)\n",
    "    a.append(save_one_wrt_rfi_frac(rand_clean_pkl, rand_rfi_pkl, outdir='test_data_200/'))"
   ]
  },
  {
   "cell_type": "code",
   "execution_count": 22,
   "metadata": {},
   "outputs": [],
   "source": [
    "q = 0\n",
    "for i in a:\n",
    "    if i:\n",
    "        q+=1"
   ]
  },
  {
   "cell_type": "code",
   "execution_count": 23,
   "metadata": {},
   "outputs": [
    {
     "data": {
      "text/plain": [
       "250"
      ]
     },
     "execution_count": 23,
     "metadata": {},
     "output_type": "execute_result"
    }
   ],
   "source": [
    "q"
   ]
  },
  {
   "cell_type": "code",
   "execution_count": null,
   "metadata": {},
   "outputs": [],
   "source": [
    "# # make mixed dataset using one clean and one rfi example with increasing number of rfi candidates \n",
    "# a = []\n",
    "# for i in tqdm.tqdm(range(100)):\n",
    "#     rand_clean_pkl = strong_real_pkl # np.random.choice(clean_pkls)\n",
    "#     rand_rfi_pkl = bad_rfi_pkl\n",
    "#     a.append(save_one_wrt_rfi_frac(rand_clean_pkl, rand_rfi_pkl, outdir='vs_rfi_num_2/'))"
   ]
  },
  {
   "cell_type": "code",
   "execution_count": null,
   "metadata": {},
   "outputs": [],
   "source": [
    "files = glob.glob('clean_dataset/*npz')"
   ]
  },
  {
   "cell_type": "code",
   "execution_count": null,
   "metadata": {},
   "outputs": [],
   "source": [
    "len(set(files))"
   ]
  },
  {
   "cell_type": "code",
   "execution_count": null,
   "metadata": {},
   "outputs": [],
   "source": [
    "files = glob.glob('test_data_200/*npz')"
   ]
  },
  {
   "cell_type": "code",
   "execution_count": null,
   "metadata": {},
   "outputs": [],
   "source": [
    "len(set(files))"
   ]
  },
  {
   "cell_type": "code",
   "execution_count": null,
   "metadata": {},
   "outputs": [],
   "source": []
  },
  {
   "cell_type": "code",
   "execution_count": null,
   "metadata": {
    "scrolled": true
   },
   "outputs": [],
   "source": [
    "for file in files:\n",
    "    f = np.load(file)\n",
    "    d = f['cands']\n",
    "    l = f['labels']\n",
    "    s = f['snrs']\n",
    "#     if not (l == -1).sum():\n",
    "#         print(file)\n",
    "    plot_data(d, l, title=file[:-4], save=False, snrs=s)    "
   ]
  },
  {
   "cell_type": "code",
   "execution_count": null,
   "metadata": {},
   "outputs": [],
   "source": []
  }
 ],
 "metadata": {
  "kernelspec": {
   "display_name": "Python 3",
   "language": "python",
   "name": "python3"
  },
  "language_info": {
   "codemirror_mode": {
    "name": "ipython",
    "version": 3
   },
   "file_extension": ".py",
   "mimetype": "text/x-python",
   "name": "python",
   "nbconvert_exporter": "python",
   "pygments_lexer": "ipython3",
   "version": "3.6.9"
  }
 },
 "nbformat": 4,
 "nbformat_minor": 2
}
