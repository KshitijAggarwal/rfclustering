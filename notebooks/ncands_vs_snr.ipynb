{
 "cells": [
  {
   "cell_type": "code",
   "execution_count": 1,
   "metadata": {},
   "outputs": [],
   "source": [
    "import numpy as np\n",
    "import pylab as plt\n",
    "%matplotlib inline\n",
    "import math\n",
    "from collections import OrderedDict"
   ]
  },
  {
   "cell_type": "code",
   "execution_count": 2,
   "metadata": {},
   "outputs": [],
   "source": [
    "import matplotlib.pyplot as plt\n",
    "# needs SciencePlots: https://github.com/garrettj403/SciencePlots \n",
    "plt.style.use('science')"
   ]
  },
  {
   "cell_type": "code",
   "execution_count": 3,
   "metadata": {},
   "outputs": [],
   "source": [
    "def generate_dm_list(dm_start: float, dm_end: float, dt: float, ti: float, f0: float, df: float, nchans: int,\n",
    "                     tol: float) -> list:\n",
    "    \"\"\"\n",
    "    Code to generate Heimdall's DM list. \n",
    "    Original Source: https://github.com/thepetabyteproject/your/blob/master/your/utils/heimdall.py\n",
    "    Taken from [dedisp](https://github.com/ajameson/dedisp/blob/master/src/kernels.cuh#L56)\n",
    "    Based on: https://ui.adsabs.harvard.edu/abs/2012PhDT.......306L/abstract\n",
    "    Args:\n",
    "        dm_start (float): Start DM\n",
    "        dm_end (float): End DM\n",
    "        dt (float): Sampling interval (in seconds)\n",
    "        ti (float): pulse width (in seconds)\n",
    "        f0 (float): Center Frequency (MHz)\n",
    "        df (float): Channel Bandwidth (MHz)\n",
    "        nchans (int): Number of channels\n",
    "        tol (float): Tolerance level\n",
    "    Returns:\n",
    "        list : List of DMs for which Heimdall will do the search\n",
    "    \"\"\"\n",
    "    dt *= 1e6\n",
    "#     ti *= 1e6\n",
    "    center_freq = (f0 + (nchans / 2) * df) * 1e-3\n",
    "    a = 8.3 * df / (center_freq ** 3)\n",
    "    b = a ** 2 * nchans ** 2 / 16\n",
    "    c = (dt ** 2 + ti ** 2) * (tol ** 2 - 1)\n",
    "\n",
    "    dm_list = []\n",
    "    dm_list.append(dm_start)\n",
    "    while dm_list[-1] < dm_end:\n",
    "        k = c + tol ** 2 * a ** 2 * dm_list[-1] ** 2\n",
    "        dm = (\n",
    "            b * dm_list[-1]\n",
    "            + math.sqrt(-(a ** 2) * b * dm_list[-1] ** 2 + (a ** 2 + b) * k)\n",
    "        ) / (a ** 2 + b)\n",
    "        dm_list.append(dm)\n",
    "    return dm_list"
   ]
  },
  {
   "cell_type": "code",
   "execution_count": 4,
   "metadata": {},
   "outputs": [],
   "source": [
    "def get_decimation_dm(tsamp, foff, fch1, factor: int = 2) -> float:\n",
    "    return (\n",
    "        factor\n",
    "        * tsamp\n",
    "        / np.abs(8.3e-6 * foff / (fch1 * 1e-3) ** 3)\n",
    "    )"
   ]
  },
  {
   "cell_type": "code",
   "execution_count": 5,
   "metadata": {},
   "outputs": [],
   "source": [
    "# Set Realfast L band search configuration \n",
    "\n",
    "dm_start = 0\n",
    "dm_end = 3000\n",
    "tsamp = 0.005 #s\n",
    "ti_in = 0.03 #s\n",
    "f0 = 1500 #1440 #1920 #MHz\n",
    "fch1 = 2000\n",
    "bw = 1000\n",
    "nchans = 256\n",
    "df = -1*bw/nchans\n",
    "tol = (100/95)**2 # 5% sensitivity loss accross DM trials \n",
    "max_width = np.ceil(np.log2(30*1e-3//tsamp)) # log2(samples)\n",
    "boxcar_widths = 2**np.linspace(0, max_width, max_width+1)*tsamp #sec"
   ]
  },
  {
   "cell_type": "code",
   "execution_count": 6,
   "metadata": {},
   "outputs": [
    {
     "data": {
      "text/plain": [
       "array([0.005, 0.01 , 0.02 , 0.04 ])"
      ]
     },
     "execution_count": 6,
     "metadata": {},
     "output_type": "execute_result"
    }
   ],
   "source": [
    "boxcar_widths"
   ]
  },
  {
   "cell_type": "code",
   "execution_count": 7,
   "metadata": {},
   "outputs": [],
   "source": [
    "iterations = int(np.ceil(dm_end / get_decimation_dm(tsamp, df, f0)))"
   ]
  },
  {
   "cell_type": "code",
   "execution_count": 8,
   "metadata": {},
   "outputs": [],
   "source": [
    "plan = OrderedDict()"
   ]
  },
  {
   "cell_type": "code",
   "execution_count": 9,
   "metadata": {},
   "outputs": [],
   "source": [
    "n_dms = 0\n",
    "for i in range(iterations):\n",
    "    dm_end = (i + 1) * get_decimation_dm(tsamp, df, f0, 2)\n",
    "    out_list = generate_dm_list(\n",
    "        dm_start,\n",
    "        dm_end,\n",
    "        (2 ** i) * tsamp,\n",
    "        ti_in,\n",
    "        f0,\n",
    "        df,\n",
    "        nchans,\n",
    "        tol,\n",
    "    )\n",
    "    plan[2 ** i] = out_list \n",
    "    n_dms += len(out_list)\n",
    "    dm_start = out_list[-1]"
   ]
  },
  {
   "cell_type": "code",
   "execution_count": 10,
   "metadata": {},
   "outputs": [
    {
     "name": "stdout",
     "output_type": "stream",
     "text": [
      "1 1046.1864391772122 361\n",
      "2 2090.0452081615895 95\n",
      "4 3141.2468039023074 56\n"
     ]
    }
   ],
   "source": [
    "n = 0\n",
    "dms = []\n",
    "for k in plan.keys():\n",
    "    dms += plan[k]\n",
    "    print(k, plan[k][-1], len(plan[k]))"
   ]
  },
  {
   "cell_type": "code",
   "execution_count": 11,
   "metadata": {},
   "outputs": [],
   "source": [
    "dm_trials = np.array(dms)\n",
    "boxcar_trials = boxcar_widths #sec"
   ]
  },
  {
   "cell_type": "code",
   "execution_count": 12,
   "metadata": {},
   "outputs": [
    {
     "data": {
      "text/plain": [
       "[<matplotlib.lines.Line2D at 0x7f288adc10f0>]"
      ]
     },
     "execution_count": 12,
     "metadata": {},
     "output_type": "execute_result"
    },
    {
     "data": {
      "image/png": "[encoded data removed]",
      "text/plain": [
       "<Figure size 252x189 with 1 Axes>"
      ]
     },
     "metadata": {
      "needs_background": "light"
     },
     "output_type": "display_data"
    }
   ],
   "source": [
    "plt.plot(dm_trials)"
   ]
  },
  {
   "cell_type": "code",
   "execution_count": 13,
   "metadata": {},
   "outputs": [
    {
     "data": {
      "text/plain": [
       "(512, 1500, -3.90625)"
      ]
     },
     "execution_count": 13,
     "metadata": {},
     "output_type": "execute_result"
    }
   ],
   "source": [
    "len(dm_trials), f0, df"
   ]
  },
  {
   "cell_type": "code",
   "execution_count": 14,
   "metadata": {},
   "outputs": [],
   "source": [
    "def get_n_cands(cand_width, cand_dm, cand_snr, dm_trials, boxcar_trials, \n",
    "                tsamp, f0, df, nchans, ret_arr=False):\n",
    "    snr_th = 8\n",
    "    tscatter = 0\n",
    "    center_freq = f0/1000 #GHz\n",
    "    chan_bw = df\n",
    "    tdm = (10**(-6))*8.3*chan_bw*cand_dm/(center_freq**3) #sec\n",
    "    tddm = (10**(-6))*(8.3/4)*nchans*chan_bw*(dm_trials-cand_dm)/(center_freq**3) #sec\n",
    "    \n",
    "    weff_dm = np.sqrt(tscatter**2 + tsamp**2 + cand_width**2 + tdm**2 + tddm**2)\n",
    "    dm_loss_factor = (cand_width/weff_dm)**(1/2)\n",
    "\n",
    "    width_loss_factor = []\n",
    "    for b in boxcar_trials:\n",
    "        ratio = weff_dm/b\n",
    "        ratio[ratio < 1] = 1/ratio[ratio < 1] #inverting the ones less than 1 \n",
    "        width_loss_factor.append(1/ratio**(1/2))\n",
    "        \n",
    "    width_loss_factor = np.array(width_loss_factor)\n",
    "#     snrs = cand_snr*dm_loss_factor\n",
    "    snrs_final = cand_snr*dm_loss_factor*width_loss_factor\n",
    "    n_cands_wrt_boxcar_width = (snrs_final > snr_th).sum(1)\n",
    "    n_tot = np.sum(n_cands_wrt_boxcar_width)\n",
    "    if ret_arr:\n",
    "        return n_tot, snrs_final\n",
    "    else:\n",
    "        return n_tot"
   ]
  },
  {
   "cell_type": "code",
   "execution_count": 15,
   "metadata": {},
   "outputs": [],
   "source": [
    "snrs = np.array([8, 10, 20, 50, 70, 100])"
   ]
  },
  {
   "cell_type": "code",
   "execution_count": 16,
   "metadata": {},
   "outputs": [],
   "source": [
    "n_1000_1 = []\n",
    "n_100_1 = []\n",
    "n_1000_10 = []\n",
    "n_100_10 = []\n",
    "\n",
    "for snr in snrs:\n",
    "    n_1000_1.append(get_n_cands(cand_width=1*10**(-3), cand_dm=1000, cand_snr=snr, \n",
    "                                      dm_trials=dm_trials, boxcar_trials=boxcar_trials, \n",
    "                                      tsamp=tsamp, f0=f0, df=df, nchans=nchans, ret_arr=False))\n",
    "    n_1000_10.append(get_n_cands(cand_width=10*10**(-3), cand_dm=1000, cand_snr=snr, \n",
    "                                  dm_trials=dm_trials, boxcar_trials=boxcar_trials, \n",
    "                                  tsamp=tsamp, f0=f0, df=df, nchans=nchans, ret_arr=False))\n",
    "    n_100_1.append(get_n_cands(cand_width=1*10**(-3), cand_dm=100, cand_snr=snr, \n",
    "                              dm_trials=dm_trials, boxcar_trials=boxcar_trials, \n",
    "                              tsamp=tsamp, f0=f0, df=df, nchans=nchans, ret_arr=False))\n",
    "    n_100_10.append(get_n_cands(cand_width=10*10**(-3), cand_dm=100, cand_snr=snr, \n",
    "                          dm_trials=dm_trials, boxcar_trials=boxcar_trials, \n",
    "                          tsamp=tsamp, f0=f0, df=df, nchans=nchans, ret_arr=False))"
   ]
  },
  {
   "cell_type": "code",
   "execution_count": 17,
   "metadata": {},
   "outputs": [
    {
     "data": {
      "image/png": "[encoded data removed]",
      "text/plain": [
       "<Figure size 511.2x315.939 with 1 Axes>"
      ]
     },
     "metadata": {
      "needs_background": "light"
     },
     "output_type": "display_data"
    }
   ],
   "source": [
    "plt.figure(figsize=(2*3.5500029749550297, 2*2.19402249868545))\n",
    "\n",
    "plt.plot(snrs, n_1000_1, label=r'Width=1ms, DM=1000cm$^{-3}$pc', linestyle='--', color='r')\n",
    "plt.plot(snrs, n_1000_10, label=r'Width=10ms, DM=1000cm$^{-3}$pc', linestyle='--', color='b')\n",
    "plt.plot(snrs, n_100_1, label=r'Width=1ms, DM=100cm$^{-3}$pc', color='r')\n",
    "plt.plot(snrs, n_100_10, label=r'Width=10ms, DM=100cm$^{-3}$pc', color='b')\n",
    "\n",
    "size = 7\n",
    "\n",
    "x = 25 \n",
    "y = 370\n",
    "plt.text(x, y, r'10ms, 100cm$^{-3}$pc', color='b', fontsize=size, rotation=35)\n",
    "\n",
    "x = 70 \n",
    "y = 355\n",
    "plt.text(x, y, r'1ms, 100cm$^{-3}$pc', color='r', fontsize=size, rotation=13)\n",
    "\n",
    "x = 70 \n",
    "y = 220\n",
    "plt.text(x, y, r'10ms, 1000cm$^{-3}$pc', color='b', fontsize=size, rotation=10)\n",
    "\n",
    "x = 70 \n",
    "y = 75\n",
    "plt.text(x, y, r'1ms, 1000cm$^{-3}$pc', color='r', fontsize=size, rotation=5)\n",
    "\n",
    "\n",
    "plt.ylabel('Number of Candidates')\n",
    "plt.xlabel('S/N')\n",
    "plt.grid()\n",
    "plt.tight_layout()\n",
    "# plt.savefig('ncands_vs_snr_new.pdf', bbox_inches='tight')"
   ]
  }
 ],
 "metadata": {
  "kernelspec": {
   "display_name": "Python 3",
   "language": "python",
   "name": "python3"
  },
  "language_info": {
   "codemirror_mode": {
    "name": "ipython",
    "version": 3
   },
   "file_extension": ".py",
   "mimetype": "text/x-python",
   "name": "python",
   "nbconvert_exporter": "python",
   "pygments_lexer": "ipython3",
   "version": "3.6.9"
  }
 },
 "nbformat": 4,
 "nbformat_minor": 2
}
